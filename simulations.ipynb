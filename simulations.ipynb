{
 "cells": [
  {
   "cell_type": "markdown",
   "metadata": {},
   "source": [
    "# 1. AlphaFLOW_PDB_base\n",
    "\n",
    "- AlphaFLOW_pdb_base on atlas_test: 6lus_A, 6o2v_A, 6uof_A, 7ead_A (1 sample)\n",
    "- AlphaFLOW_pdb_base on atlas_test: 6lus_A, 6o2v_A, 6uof_A, 7ead_A (10 samples)  \n",
    "<b>Result: </b> Simulation too long (2 hours per protein) for 10 samples. I quit"
   ]
  },
  {
   "cell_type": "code",
   "execution_count": null,
   "metadata": {},
   "outputs": [],
   "source": [
    "!python predict.py --mode alphafold --input_csv splits/atlas_test.csv --msa_dir MSA/ --weights alphaflow_pdb_base_202402.pt --samples 1 --outpdb out/alpha_pdb_base_1/ --self_cond --resample\n",
    "!python predict.py --mode alphafold --input_csv splits/atlas_test.csv --msa_dir MSA/ --weights alphaflow_pdb_base_202402.pt --samples 10 --outpdb out/alpha_pdb_base_10/ --self_cond --resample"
   ]
  },
  {
   "cell_type": "markdown",
   "metadata": {},
   "source": [
    "- AlphaFLOW_pdb_base on protein cited on paper image: 7bwf_B, 6q9c_A, 6d7y_A 6oz1_A (1 sample)  \n",
    "<b>Result:</b> Error on 6oz1_A: CUDA out of memory. Not enough memory on my computer to run 643 characters of 6oz1_A"
   ]
  },
  {
   "cell_type": "code",
   "execution_count": null,
   "metadata": {},
   "outputs": [],
   "source": [
    "!python predict.py --mode alphafold --input_csv paper.csv --msa_dir MSA/ --weights alphaflow_pdb_base_202402.pt --samples 1 --outpdb out/alpha_pdb_base_1/ --self_cond --resample\n",
    "!python predict.py --mode alphafold --input_csv paper.csv --msa_dir MSA/ --weights alphaflow_pdb_base_202402.pt --samples 10 --outpdb out/alpha_pdb_base_10/ --self_cond --resample"
   ]
  },
  {
   "cell_type": "markdown",
   "metadata": {},
   "source": [
    "# 2. AlphaFLOW_PDB_distilled\n",
    "\n",
    "- AlphaFLOW_pbd_distilled on atlas_test: 6lus_A, 6o2v_A, 6uof_A, 7ead_A (1 samples)\n",
    "- AlphaFLOW_pbd_distilled on atlas_test: 6lus_A, 6o2v_A, 6uof_A, 7ead_A (10 samples)"
   ]
  },
  {
   "cell_type": "code",
   "execution_count": null,
   "metadata": {},
   "outputs": [],
   "source": [
    "!python predict.py --mode alphafold --input_csv splits/atlas_test.csv --msa_dir MSA/ --weights alphaflow_pdb_distilled_202402.pt --samples 1 --outpdb out/alpha_pdb_distilled_1/ --self_cond --resample --noisy_first --no_diffusion\n",
    "!python predict.py --mode alphafold --input_csv splits/atlas_test.csv --msa_dir MSA/ --weights alphaflow_pdb_distilled_202402.pt --samples 10 --outpdb out/alpha_pdb_distilled_10/ --self_cond --resample --noisy_first --no_diffusion"
   ]
  },
  {
   "cell_type": "markdown",
   "metadata": {},
   "source": [
    "- AlphaFLOW_pdb_distilled on insulin receptor (1 sample)<br>\n",
    " <b>Result:</b> Error: CUDA out of memory. Not enough memory on my computer to run 1382 characters of insulin"
   ]
  },
  {
   "cell_type": "code",
   "execution_count": null,
   "metadata": {},
   "outputs": [],
   "source": [
    "!python predict.py --mode alphafold --input_csv insulin.csv --msa_dir MSA/ --weights alphaflow_pdb_distilled_202402.pt --samples 1 --outpdb out/alpha_pdb_distilled_1/ --self_cond --resample --noisy_first --no_diffusion"
   ]
  },
  {
   "cell_type": "markdown",
   "metadata": {},
   "source": [
    "- AlphaFLOW_pdb_distilled on <i>6qj0_A</i> of the organism <i>C. thermophilum</i> (1 sample) (10 samples)<br>\n",
    "Chosen because it is pretty long (412 characters)  \n",
    "<b>Result:</b> Error: CUDA out of memory. Not enough memory on my computer to run 412 characters of 6qj0_A"
   ]
  },
  {
   "cell_type": "code",
   "execution_count": null,
   "metadata": {},
   "outputs": [],
   "source": [
    "!python predict.py --mode alphafold --input_csv thermophilum.csv --msa_dir MSA/ --weights alphaflow_pdb_distilled_202402.pt --samples 1 --outpdb out/alpha_pdb_distilled_1/ --self_cond --resample --noisy_first --no_diffusion\n",
    "!python predict.py --mode alphafold --input_csv thermophilum.csv --msa_dir MSA/ --weights alphaflow_pdb_distilled_202402.pt --samples 10 --outpdb out/alpha_pdb_distilled_10/ --self_cond --resample --noisy_first --no_diffusion"
   ]
  },
  {
   "cell_type": "markdown",
   "metadata": {},
   "source": [
    "- AlphaFLOW_pdb_distilled on protein cited on paper image: 7bwf_B, 6q9c_A, 6d7y_A 6oz1_A (1 sample)  \n",
    "<b>Result:</b> Error on 6oz1_A: CUDA out of memory. Not enough memory on my computer to run 643 characters of 6oz1_A\n",
    "- AlphaFLOW_pdb_distilled on protein cited on paper image: 7bwf_B, 6q9c_A, 6d7y_A 6oz1_A (10 sample)  \n",
    "<b>Result:</b> Error on 6oz1_A: CUDA out of memory. Not enough memory on my computer to run 643 characters of 6oz1_A"
   ]
  },
  {
   "cell_type": "code",
   "execution_count": null,
   "metadata": {},
   "outputs": [],
   "source": [
    "!python predict.py --mode alphafold --input_csv paper.csv --msa_dir MSA/ --weights alphaflow_pdb_distilled_202402.pt --samples 1 --outpdb out/alpha_pdb_distilled_1/ --self_cond --resample --noisy_first --no_diffusion\n",
    "!python predict.py --mode alphafold --input_csv paper.csv --msa_dir MSA/ --weights alphaflow_pdb_distilled_202402.pt --samples 10 --outpdb out/alpha_pdb_distilled_10/ --self_cond --resample --noisy_first --no_diffusion"
   ]
  },
  {
   "cell_type": "markdown",
   "metadata": {},
   "source": [
    "# 3. ESMFLOW_PDB_base\n",
    "\n",
    "- ESMFLOW_pdb_base on atlas test: 6lus_A, 6o2v_A, 6uof_A, 7ead_A (1 sample)  \n",
    "<b>Result:</b> Killed. Probably due to lack of memory"
   ]
  },
  {
   "cell_type": "code",
   "execution_count": null,
   "metadata": {},
   "outputs": [],
   "source": [
    "!python predict.py --mode esmfold --input_csv small.csv --weights esmflow_pdb_base_202402.pt --samples 1 --outpdb out/esm_pdb_base_1/"
   ]
  },
  {
   "cell_type": "markdown",
   "metadata": {},
   "source": [
    "# 4. ESMFLOW_PDB_distilled\n",
    "\n",
    "- ESMFLOW_pdb_distilled on atlas test: 6lus_A, 6o2v_A, 6uof_A, 7ead_A (1 sample)  \n",
    "<b>Result:</b> Killed. Probably due to lack of memory"
   ]
  },
  {
   "cell_type": "code",
   "execution_count": null,
   "metadata": {},
   "outputs": [],
   "source": [
    "!python predict.py --mode esmfold --input_csv splits/atlas_test.csv --weights esmflow_pdb_distilled_202402.pt --samples 1 --outpdb out/esm_pdb_distilled_1/ --noisy_first --no_diffusion"
   ]
  },
  {
   "cell_type": "markdown",
   "metadata": {},
   "source": [
    "- ESMFLOW_pdb_distilled on protein cited on paper image: 7bwf_B, 6q9c_A, 6d7y_A 6oz1_A (1 sample)  \n",
    "<b>Result:</b> Killed. Probably due to lack of memory"
   ]
  },
  {
   "cell_type": "code",
   "execution_count": null,
   "metadata": {},
   "outputs": [],
   "source": [
    "!python predict.py --mode esmfold --input_csv paper.csv --weights esmflow_pdb_distilled_202402.pt --samples 1 --outpdb out/esm_pdb_distilled_1/ --noisy_first --no_diffusion"
   ]
  },
  {
   "cell_type": "markdown",
   "metadata": {},
   "source": [
    "# 5. AlphaFLOW_MD_base\n",
    "\n",
    "- AlphaFLOW_MD_base on atlas test: 6lus_A, 6o2v_A, 6uof_A, 7ead_A (1 sample)"
   ]
  },
  {
   "cell_type": "code",
   "execution_count": null,
   "metadata": {},
   "outputs": [],
   "source": [
    "!python predict.py --mode alphafold --input_csv splits/atlas_test.csv --msa_dir MSA/ --weights alphaflow_md_base_202402.pt --samples 1 --outpdb out/alpha_md_base_1/"
   ]
  },
  {
   "cell_type": "markdown",
   "metadata": {},
   "source": [
    "- AlphaFLOW_pdb_base on protein cited on paper image: 7bwf_B, 6q9c_A, 6d7y_A 6oz1_A (1 sample)  \n",
    "<b>Result:</b> Error on 6oz1_A: CUDA out of memory. Not enough memory on my computer to run 643 characters of 6oz1_A"
   ]
  },
  {
   "cell_type": "code",
   "execution_count": null,
   "metadata": {},
   "outputs": [],
   "source": [
    "!python predict.py --mode alphafold --input_csv paper.csv --msa_dir MSA/ --weights alphaflow_md_base_202402.pt --samples 1 --outpdb out/alpha_md_base_1/"
   ]
  },
  {
   "cell_type": "markdown",
   "metadata": {},
   "source": [
    "# 6. AlphaFLOW_MD_distilled\n",
    "\n",
    "- AlphaFLOW_MD_distilled on atlas test: 6lus_A, 6o2v_A, 6uof_A, 7ead_A (1 sample)\n",
    "- AlphaFLOW_MD_distilled on atlas test: 6lus_A, 6o2v_A, 6uof_A, 7ead_A (10 sample)"
   ]
  },
  {
   "cell_type": "code",
   "execution_count": null,
   "metadata": {},
   "outputs": [],
   "source": [
    "!python predict.py --mode alphafold --input_csv splits/atlas_test.csv --msa_dir MSA/ --weights alphaflow_md_distilled_202402.pt --samples 1 --outpdb out/alpha_md_distilled_1 --noisy_first --no_diffusion\n",
    "!python predict.py --mode alphafold --input_csv splits/atlas_test.csv --msa_dir MSA/ --weights alphaflow_md_distilled_202402.pt --samples 10 --outpdb out/alpha_md_distilled_10 --noisy_first --no_diffusion"
   ]
  },
  {
   "cell_type": "markdown",
   "metadata": {},
   "source": [
    "- AlphaFLOW_md_distilled on protein cited on paper image: 7bwf_B, 6q9c_A, 6d7y_A 6oz1_A (1 sample)  \n",
    "<b>Result:</b> Error on 6oz1_A: CUDA out of memory. Not enough memory on my computer to run 643 characters of 6oz1_A\n",
    "- AlphaFLOW_md_distilled on protein cited on paper image: 7bwf_B, 6q9c_A, 6d7y_A 6oz1_A (10 sample)  \n",
    "<b>Result:</b> Error on 6oz1_A: CUDA out of memory. Not enough memory on my computer to run 643 characters of 6oz1_A"
   ]
  },
  {
   "cell_type": "code",
   "execution_count": null,
   "metadata": {},
   "outputs": [],
   "source": [
    "!python predict.py --mode alphafold --input_csv paper.csv --msa_dir MSA/ --weights alphaflow_md_distilled_202402.pt --samples 1 --outpdb out/alpha_md_distilled_1 --noisy_first --no_diffusion\n",
    "!python predict.py --mode alphafold --input_csv paper.csv --msa_dir MSA/ --weights alphaflow_md_distilled_202402.pt --samples 10 --outpdb out/alpha_md_distilled_10 --noisy_first --no_diffusion"
   ]
  }
 ],
 "metadata": {
  "language_info": {
   "name": "python"
  }
 },
 "nbformat": 4,
 "nbformat_minor": 2
}
